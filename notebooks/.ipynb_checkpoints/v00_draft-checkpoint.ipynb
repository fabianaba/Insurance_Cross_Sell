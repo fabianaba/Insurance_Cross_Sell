{
 "cells": [
  {
   "cell_type": "markdown",
   "id": "e030f1dd",
   "metadata": {},
   "source": [
    "# INSURANCE CROSS SELL"
   ]
  },
  {
   "cell_type": "markdown",
   "id": "c2abba50",
   "metadata": {},
   "source": [
    "# 0.0 IMPORTS"
   ]
  },
  {
   "cell_type": "code",
   "execution_count": 1,
   "id": "be3d4b60",
   "metadata": {
    "ExecuteTime": {
     "end_time": "2021-12-08T01:31:33.510055Z",
     "start_time": "2021-12-08T01:31:33.494393Z"
    }
   },
   "outputs": [],
   "source": [
    "#!pip install boruta"
   ]
  },
  {
   "cell_type": "code",
   "execution_count": 2,
   "id": "dbe5c370",
   "metadata": {
    "ExecuteTime": {
     "end_time": "2021-12-08T01:31:36.579598Z",
     "start_time": "2021-12-08T01:31:33.510055Z"
    }
   },
   "outputs": [],
   "source": [
    "import math\n",
    "import numpy               as np\n",
    "import pandas              as pd\n",
    "import seaborn             as sns\n",
    "import plotly.express      as px\n",
    "\n",
    "import inflection\n",
    "import matplotlib\n",
    "import datetime\n",
    "import random\n",
    "\n",
    "from numpy                 import int64\n",
    "from tabulate              import tabulate\n",
    "from matplotlib            import pyplot as plt\n",
    "\n",
    "from IPython.display       import Image\n",
    "from sklearn.metrics       import mean_absolute_error, mean_absolute_percentage_error, mean_squared_error\n",
    "from sklearn.ensemble      import RandomForestRegressor\n",
    "from IPython.core.display  import HTML\n",
    "from sklearn.preprocessing import RobustScaler, MinMaxScaler, LabelEncoder\n",
    "from sklearn.linear_model  import LinearRegression, Lasso"
   ]
  },
  {
   "cell_type": "markdown",
   "id": "d6c4567c",
   "metadata": {},
   "source": [
    "## 0.1 Helper Functions"
   ]
  },
  {
   "cell_type": "code",
   "execution_count": 3,
   "id": "7feba4c7",
   "metadata": {
    "ExecuteTime": {
     "end_time": "2021-12-08T01:31:36.595219Z",
     "start_time": "2021-12-08T01:31:36.579598Z"
    }
   },
   "outputs": [],
   "source": [
    "def jupyter_settings():\n",
    "    %matplotlib inline\n",
    "    %pylab inline\n",
    "    \n",
    "    plt.style.use( 'bmh' )\n",
    "    plt.rcParams['figure.figsize'] = [25, 12]\n",
    "    plt.rcParams['font.size'] = 24\n",
    "    \n",
    "    display( HTML( '<style>.container { width:100% !important; }</style>') )\n",
    "    pd.options.display.max_columns = None\n",
    "    pd.options.display.max_rows = None\n",
    "    pd.set_option( 'display.expand_frame_repr', False )\n",
    "    \n",
    "    sns.set()\n",
    "\n",
    "# def mean_percentage_error(y, yhat):\n",
    "#     return np.mean((y - yhat) / y)\n",
    "\n",
    "# def mean_absolute_percentage_error(y, yhat):\n",
    "#     return np.mean(np.abs((y - yhat) / y))\n",
    "    \n",
    "# def ml_error(model_name, y, yhat):\n",
    "#     mae = mean_absolute_error(y, yhat)\n",
    "#     mape = mean_absolute_percentage_error(y, yhat)\n",
    "#     rmse = np.sqrt(mean_squared_error(y, yhat))\n",
    "    \n",
    "#     return pd.DataFrame({'Model Name': model_name,\n",
    "#                         'MAE': mae,\n",
    "#                         'MAPE': mape,\n",
    "#                         'RMSE': rmse}, index=[0])\n",
    "# def cramer_v(x, y):\n",
    "#     cm = pd.crosstab(x, y).values\n",
    "#     n = cm.sum()\n",
    "#     r, k = cm.shape\n",
    "    \n",
    "#     chi2 = ss.chi2_contingency(cm)[0]\n",
    "#     chi2_corr = max(0, chi2 - (k-1)*(r-1)/(n-1))\n",
    "    \n",
    "#     kcorr = k - (k-1)**2/(n-1)\n",
    "#     rcorr = r - (r-1)**2/(n-1)\n",
    "    \n",
    "#     return np.sqrt((chi2_corr/n) / (min(kcorr-1, rcorr-1)))\n",
    "\n",
    "# def cross_validation (x_training, kfold, model_name, model, verbose=False):\n",
    "#     mae_list = []\n",
    "#     mape_list = []\n",
    "#     rmse_list = []\n",
    "\n",
    "#     for k in reversed(range(1, kfold+1)):\n",
    "#         if verbose:\n",
    "#             print('\\nKFold Number: {}'.format(k))\n",
    "#         # start and end dates for validation\n",
    "#         validation_start_date = x_training['date'].max() - datetime.timedelta(days=k*6*7)\n",
    "#         validation_end_date = x_training['date'].max() - datetime.timedelta(days=(k-1)*6*7)\n",
    "\n",
    "#         # filtering dataset\n",
    "#         training = x_training[x_training['date'] < validation_start_date]\n",
    "#         validation = x_training[(x_training['date'] >= validation_start_date) & (x_training['date'] <= validation_end_date)]\n",
    "\n",
    "#         # training and validation dataset\n",
    "\n",
    "#         # training\n",
    "#         xtraining = training.drop(['date', 'sales'], axis = 1)\n",
    "#         ytraining = training['sales']\n",
    "\n",
    "#         # validation\n",
    "#         xvalidation = validation.drop(['date', 'sales'], axis=1)\n",
    "#         yvalidation = validation['sales']\n",
    "\n",
    "#         # model\n",
    "#         m = model.fit(xtraining, ytraining)\n",
    "\n",
    "#         # prediction\n",
    "#         yhat = m.predict(xvalidation)\n",
    "\n",
    "#         # performance\n",
    "#         m_result = ml_error(model_name, np.expm1(yvalidation), np.expm1(yhat))\n",
    "\n",
    "#         # store performance of each kfold iteration\n",
    "#         mae_list.append(m_result['MAE'])\n",
    "#         mape_list.append(m_result['MAPE'])\n",
    "#         rmse_list.append(m_result['RMSE'])\n",
    "\n",
    "#     return pd.DataFrame({'Model Name': model_name,\n",
    "#                          'MAE CV': np.round(np.mean(mae_list), 2).astype(str) + ' +/- ' + np.round(np.std(mae_list), 2).astype(str),\n",
    "#                          'MAPE CV': np.round(np.mean(mape_list), 2).astype(str) + ' +/- ' + np.round(np.std(mape_list), 2).astype(str),\n",
    "#                          'RMSE CV': np.round(np.mean(rmse_list), 2).astype(str) + ' +/- ' + np.round(np.std(rmse_list), 2).astype(str)}, index=[0])"
   ]
  },
  {
   "cell_type": "code",
   "execution_count": 4,
   "id": "87ce81df",
   "metadata": {
    "ExecuteTime": {
     "end_time": "2021-12-08T01:31:36.617354Z",
     "start_time": "2021-12-08T01:31:36.595219Z"
    }
   },
   "outputs": [
    {
     "name": "stdout",
     "output_type": "stream",
     "text": [
      "Populating the interactive namespace from numpy and matplotlib\n"
     ]
    },
    {
     "name": "stderr",
     "output_type": "stream",
     "text": [
      "C:\\Users\\fabic\\Anaconda3\\envs\\insurancecrosssell\\lib\\site-packages\\IPython\\core\\magics\\pylab.py:159: UserWarning: pylab import has clobbered these variables: ['random']\n",
      "`%matplotlib` prevents importing * from pylab and numpy\n",
      "  warn(\"pylab import has clobbered these variables: %s\"  % clobbered +\n"
     ]
    },
    {
     "data": {
      "text/html": [
       "<style>.container { width:100% !important; }</style>"
      ],
      "text/plain": [
       "<IPython.core.display.HTML object>"
      ]
     },
     "metadata": {},
     "output_type": "display_data"
    }
   ],
   "source": [
    "jupyter_settings()"
   ]
  },
  {
   "cell_type": "markdown",
   "id": "be75dc74",
   "metadata": {},
   "source": [
    "## 0.2 Loading Data"
   ]
  },
  {
   "cell_type": "code",
   "execution_count": 5,
   "id": "53afbebc",
   "metadata": {
    "ExecuteTime": {
     "end_time": "2021-12-08T01:31:37.013604Z",
     "start_time": "2021-12-08T01:31:36.617354Z"
    }
   },
   "outputs": [],
   "source": [
    "data_raw = pd.read_csv('../data/train.csv', low_memory=False)"
   ]
  },
  {
   "cell_type": "code",
   "execution_count": 6,
   "id": "acc0252a",
   "metadata": {
    "ExecuteTime": {
     "end_time": "2021-12-08T01:31:37.044857Z",
     "start_time": "2021-12-08T01:31:37.013604Z"
    }
   },
   "outputs": [],
   "source": [
    "df1 = data_raw.copy()"
   ]
  },
  {
   "cell_type": "code",
   "execution_count": 7,
   "id": "9af09421",
   "metadata": {
    "ExecuteTime": {
     "end_time": "2021-12-08T01:31:37.076099Z",
     "start_time": "2021-12-08T01:31:37.044857Z"
    }
   },
   "outputs": [
    {
     "data": {
      "text/html": [
       "<div>\n",
       "<style scoped>\n",
       "    .dataframe tbody tr th:only-of-type {\n",
       "        vertical-align: middle;\n",
       "    }\n",
       "\n",
       "    .dataframe tbody tr th {\n",
       "        vertical-align: top;\n",
       "    }\n",
       "\n",
       "    .dataframe thead th {\n",
       "        text-align: right;\n",
       "    }\n",
       "</style>\n",
       "<table border=\"1\" class=\"dataframe\">\n",
       "  <thead>\n",
       "    <tr style=\"text-align: right;\">\n",
       "      <th></th>\n",
       "      <th>id</th>\n",
       "      <th>Gender</th>\n",
       "      <th>Age</th>\n",
       "      <th>Driving_License</th>\n",
       "      <th>Region_Code</th>\n",
       "      <th>Previously_Insured</th>\n",
       "      <th>Vehicle_Age</th>\n",
       "      <th>Vehicle_Damage</th>\n",
       "      <th>Annual_Premium</th>\n",
       "      <th>Policy_Sales_Channel</th>\n",
       "      <th>Vintage</th>\n",
       "      <th>Response</th>\n",
       "    </tr>\n",
       "  </thead>\n",
       "  <tbody>\n",
       "    <tr>\n",
       "      <th>122726</th>\n",
       "      <td>122727</td>\n",
       "      <td>Female</td>\n",
       "      <td>38</td>\n",
       "      <td>1</td>\n",
       "      <td>31.0</td>\n",
       "      <td>1</td>\n",
       "      <td>1-2 Year</td>\n",
       "      <td>No</td>\n",
       "      <td>2630.0</td>\n",
       "      <td>26.0</td>\n",
       "      <td>292</td>\n",
       "      <td>0</td>\n",
       "    </tr>\n",
       "    <tr>\n",
       "      <th>120523</th>\n",
       "      <td>120524</td>\n",
       "      <td>Male</td>\n",
       "      <td>23</td>\n",
       "      <td>1</td>\n",
       "      <td>11.0</td>\n",
       "      <td>1</td>\n",
       "      <td>&lt; 1 Year</td>\n",
       "      <td>No</td>\n",
       "      <td>27662.0</td>\n",
       "      <td>152.0</td>\n",
       "      <td>63</td>\n",
       "      <td>0</td>\n",
       "    </tr>\n",
       "    <tr>\n",
       "      <th>9932</th>\n",
       "      <td>9933</td>\n",
       "      <td>Female</td>\n",
       "      <td>25</td>\n",
       "      <td>1</td>\n",
       "      <td>41.0</td>\n",
       "      <td>1</td>\n",
       "      <td>&lt; 1 Year</td>\n",
       "      <td>No</td>\n",
       "      <td>26015.0</td>\n",
       "      <td>152.0</td>\n",
       "      <td>68</td>\n",
       "      <td>0</td>\n",
       "    </tr>\n",
       "    <tr>\n",
       "      <th>376375</th>\n",
       "      <td>376376</td>\n",
       "      <td>Female</td>\n",
       "      <td>28</td>\n",
       "      <td>1</td>\n",
       "      <td>33.0</td>\n",
       "      <td>1</td>\n",
       "      <td>&lt; 1 Year</td>\n",
       "      <td>No</td>\n",
       "      <td>27485.0</td>\n",
       "      <td>152.0</td>\n",
       "      <td>245</td>\n",
       "      <td>0</td>\n",
       "    </tr>\n",
       "    <tr>\n",
       "      <th>355419</th>\n",
       "      <td>355420</td>\n",
       "      <td>Female</td>\n",
       "      <td>50</td>\n",
       "      <td>1</td>\n",
       "      <td>28.0</td>\n",
       "      <td>0</td>\n",
       "      <td>1-2 Year</td>\n",
       "      <td>Yes</td>\n",
       "      <td>2630.0</td>\n",
       "      <td>122.0</td>\n",
       "      <td>215</td>\n",
       "      <td>1</td>\n",
       "    </tr>\n",
       "  </tbody>\n",
       "</table>\n",
       "</div>"
      ],
      "text/plain": [
       "            id  Gender  Age  Driving_License  Region_Code  Previously_Insured Vehicle_Age Vehicle_Damage  Annual_Premium  Policy_Sales_Channel  Vintage  Response\n",
       "122726  122727  Female   38                1         31.0                   1    1-2 Year             No          2630.0                  26.0      292         0\n",
       "120523  120524    Male   23                1         11.0                   1    < 1 Year             No         27662.0                 152.0       63         0\n",
       "9932      9933  Female   25                1         41.0                   1    < 1 Year             No         26015.0                 152.0       68         0\n",
       "376375  376376  Female   28                1         33.0                   1    < 1 Year             No         27485.0                 152.0      245         0\n",
       "355419  355420  Female   50                1         28.0                   0    1-2 Year            Yes          2630.0                 122.0      215         1"
      ]
     },
     "execution_count": 7,
     "metadata": {},
     "output_type": "execute_result"
    }
   ],
   "source": [
    "df1.sample(5)"
   ]
  },
  {
   "cell_type": "markdown",
   "id": "34aebec3",
   "metadata": {
    "ExecuteTime": {
     "end_time": "2021-08-19T01:12:58.386418Z",
     "start_time": "2021-08-19T01:12:58.354761Z"
    }
   },
   "source": [
    "# 1.0 DATA DESCRIPTION"
   ]
  },
  {
   "cell_type": "markdown",
   "id": "459a9158",
   "metadata": {},
   "source": [
    "## 1.1 Rename Columns"
   ]
  },
  {
   "cell_type": "code",
   "execution_count": 8,
   "id": "bad8d8b4",
   "metadata": {
    "ExecuteTime": {
     "end_time": "2021-12-08T01:31:37.091769Z",
     "start_time": "2021-12-08T01:31:37.076099Z"
    }
   },
   "outputs": [
    {
     "data": {
      "text/plain": [
       "Index(['id', 'Gender', 'Age', 'Driving_License', 'Region_Code',\n",
       "       'Previously_Insured', 'Vehicle_Age', 'Vehicle_Damage', 'Annual_Premium',\n",
       "       'Policy_Sales_Channel', 'Vintage', 'Response'],\n",
       "      dtype='object')"
      ]
     },
     "execution_count": 8,
     "metadata": {},
     "output_type": "execute_result"
    }
   ],
   "source": [
    "df1.columns"
   ]
  },
  {
   "cell_type": "code",
   "execution_count": 9,
   "id": "ce062d28",
   "metadata": {
    "ExecuteTime": {
     "end_time": "2021-12-08T01:31:37.107391Z",
     "start_time": "2021-12-08T01:31:37.091769Z"
    }
   },
   "outputs": [],
   "source": [
    "cols_old = ['id', 'Gender', 'Age', 'Driving_License', 'Region_Code',\n",
    "       'Previously_Insured', 'Vehicle_Age', 'Vehicle_Damage', 'Annual_Premium',\n",
    "       'Policy_Sales_Channel', 'Vintage', 'Response']\n",
    "\n",
    "snakecase = lambda x: inflection.underscore(x)\n",
    "\n",
    "cols_new = list(map(snakecase, cols_old))\n",
    "\n",
    "# rename\n",
    "df1.columns = cols_new"
   ]
  },
  {
   "cell_type": "markdown",
   "id": "173008ea",
   "metadata": {
    "ExecuteTime": {
     "end_time": "2021-08-19T01:35:38.980707Z",
     "start_time": "2021-08-19T01:35:38.965088Z"
    }
   },
   "source": [
    "## 1.2 Data Dimensions"
   ]
  },
  {
   "cell_type": "code",
   "execution_count": 10,
   "id": "b21eeb1a",
   "metadata": {
    "ExecuteTime": {
     "end_time": "2021-12-08T01:31:37.129541Z",
     "start_time": "2021-12-08T01:31:37.107391Z"
    }
   },
   "outputs": [
    {
     "name": "stdout",
     "output_type": "stream",
     "text": [
      "Number of Rows: 381109\n",
      "Number of Columns: 12\n"
     ]
    }
   ],
   "source": [
    "print('Number of Rows: {}'.format(df1.shape[0]))\n",
    "print('Number of Columns: {}'.format(df1.shape[1]))"
   ]
  },
  {
   "cell_type": "markdown",
   "id": "2ff7809f",
   "metadata": {
    "ExecuteTime": {
     "end_time": "2021-08-19T01:43:35.124373Z",
     "start_time": "2021-08-19T01:43:35.120383Z"
    }
   },
   "source": [
    "## 1.3 Data Types"
   ]
  },
  {
   "cell_type": "code",
   "execution_count": 11,
   "id": "2590529e",
   "metadata": {
    "ExecuteTime": {
     "end_time": "2021-12-08T01:31:37.145148Z",
     "start_time": "2021-12-08T01:31:37.129541Z"
    }
   },
   "outputs": [
    {
     "data": {
      "text/plain": [
       "id                        int64\n",
       "gender                   object\n",
       "age                       int64\n",
       "driving_license           int64\n",
       "region_code             float64\n",
       "previously_insured        int64\n",
       "vehicle_age              object\n",
       "vehicle_damage           object\n",
       "annual_premium          float64\n",
       "policy_sales_channel    float64\n",
       "vintage                   int64\n",
       "response                  int64\n",
       "dtype: object"
      ]
     },
     "execution_count": 11,
     "metadata": {},
     "output_type": "execute_result"
    }
   ],
   "source": [
    "df1.dtypes"
   ]
  },
  {
   "cell_type": "markdown",
   "id": "408fb468",
   "metadata": {},
   "source": [
    "### 1.3.1 Change Data Type"
   ]
  },
  {
   "cell_type": "code",
   "execution_count": null,
   "id": "4bb7703e",
   "metadata": {
    "ExecuteTime": {
     "end_time": "2021-12-06T01:47:25.680989Z",
     "start_time": "2021-12-06T01:47:25.464776Z"
    }
   },
   "outputs": [],
   "source": []
  },
  {
   "cell_type": "markdown",
   "id": "aca26ea2",
   "metadata": {},
   "source": [
    "## 1.4 Check NA"
   ]
  },
  {
   "cell_type": "code",
   "execution_count": 12,
   "id": "b651da96",
   "metadata": {
    "ExecuteTime": {
     "end_time": "2021-12-08T01:31:37.192054Z",
     "start_time": "2021-12-08T01:31:37.145148Z"
    }
   },
   "outputs": [
    {
     "data": {
      "text/plain": [
       "id                      0\n",
       "gender                  0\n",
       "age                     0\n",
       "driving_license         0\n",
       "region_code             0\n",
       "previously_insured      0\n",
       "vehicle_age             0\n",
       "vehicle_damage          0\n",
       "annual_premium          0\n",
       "policy_sales_channel    0\n",
       "vintage                 0\n",
       "response                0\n",
       "dtype: int64"
      ]
     },
     "execution_count": 12,
     "metadata": {},
     "output_type": "execute_result"
    }
   ],
   "source": [
    "df1.isna().sum()"
   ]
  },
  {
   "cell_type": "markdown",
   "id": "5657b88e",
   "metadata": {},
   "source": [
    "## 1.5 Descriptive Statistical"
   ]
  },
  {
   "cell_type": "code",
   "execution_count": 13,
   "id": "92020b77",
   "metadata": {
    "ExecuteTime": {
     "end_time": "2021-12-08T01:31:37.229856Z",
     "start_time": "2021-12-08T01:31:37.192054Z"
    }
   },
   "outputs": [],
   "source": [
    "num_attributes = df1[['age', 'annual_premium', 'vintage']]\n",
    "cat_attributes = df1[['id', 'gender', 'driving_license', 'region_code',\n",
    "       'previously_insured', 'vehicle_age', 'vehicle_damage', 'policy_sales_channel', 'response']]"
   ]
  },
  {
   "cell_type": "markdown",
   "id": "3f0a7902",
   "metadata": {},
   "source": [
    "### 1.5.1 Numerical Attributes"
   ]
  },
  {
   "cell_type": "code",
   "execution_count": 14,
   "id": "4b9a2a51",
   "metadata": {
    "ExecuteTime": {
     "end_time": "2021-12-08T01:31:37.446401Z",
     "start_time": "2021-12-08T01:31:37.229856Z"
    }
   },
   "outputs": [],
   "source": [
    "# Central Tendency: mean, median\n",
    "ct1 = pd.DataFrame(num_attributes.apply(np.mean)).T\n",
    "ct2 = pd.DataFrame(num_attributes.apply(np.median)).T\n",
    "\n",
    "# Dispersion: std, min, max, range, skew, kurtosis\n",
    "d1 = pd.DataFrame(num_attributes.apply(np.std)).T\n",
    "d2 = pd.DataFrame(num_attributes.apply(min)).T\n",
    "d3 = pd.DataFrame(num_attributes.apply(max)).T\n",
    "d4 = pd.DataFrame(num_attributes.apply(lambda x: x.max() - x.min())).T\n",
    "d5 = pd.DataFrame(num_attributes.apply(lambda x: x.skew())).T\n",
    "d6 = pd.DataFrame(num_attributes.apply(lambda x: x.kurtosis())).T\n",
    "\n",
    "# concatenate\n",
    "m = pd.concat([d2, d3, d4, ct1, ct2, d1, d5, d6]).T.reset_index()\n",
    "m.columns = ['attributes', 'min', 'max', 'range', 'mean', 'median', 'std', 'skew', 'kurtosis' ]"
   ]
  },
  {
   "cell_type": "code",
   "execution_count": 15,
   "id": "a6d6ee50",
   "metadata": {
    "ExecuteTime": {
     "end_time": "2021-12-08T01:31:37.461699Z",
     "start_time": "2021-12-08T01:31:37.446401Z"
    }
   },
   "outputs": [
    {
     "data": {
      "text/html": [
       "<div>\n",
       "<style scoped>\n",
       "    .dataframe tbody tr th:only-of-type {\n",
       "        vertical-align: middle;\n",
       "    }\n",
       "\n",
       "    .dataframe tbody tr th {\n",
       "        vertical-align: top;\n",
       "    }\n",
       "\n",
       "    .dataframe thead th {\n",
       "        text-align: right;\n",
       "    }\n",
       "</style>\n",
       "<table border=\"1\" class=\"dataframe\">\n",
       "  <thead>\n",
       "    <tr style=\"text-align: right;\">\n",
       "      <th></th>\n",
       "      <th>attributes</th>\n",
       "      <th>min</th>\n",
       "      <th>max</th>\n",
       "      <th>range</th>\n",
       "      <th>mean</th>\n",
       "      <th>median</th>\n",
       "      <th>std</th>\n",
       "      <th>skew</th>\n",
       "      <th>kurtosis</th>\n",
       "    </tr>\n",
       "  </thead>\n",
       "  <tbody>\n",
       "    <tr>\n",
       "      <th>0</th>\n",
       "      <td>age</td>\n",
       "      <td>20.0</td>\n",
       "      <td>85.0</td>\n",
       "      <td>65.0</td>\n",
       "      <td>38.822584</td>\n",
       "      <td>36.0</td>\n",
       "      <td>15.511591</td>\n",
       "      <td>0.672539</td>\n",
       "      <td>-0.565655</td>\n",
       "    </tr>\n",
       "    <tr>\n",
       "      <th>1</th>\n",
       "      <td>annual_premium</td>\n",
       "      <td>2630.0</td>\n",
       "      <td>540165.0</td>\n",
       "      <td>537535.0</td>\n",
       "      <td>30564.389581</td>\n",
       "      <td>31669.0</td>\n",
       "      <td>17213.132474</td>\n",
       "      <td>1.766087</td>\n",
       "      <td>34.004569</td>\n",
       "    </tr>\n",
       "    <tr>\n",
       "      <th>2</th>\n",
       "      <td>vintage</td>\n",
       "      <td>10.0</td>\n",
       "      <td>299.0</td>\n",
       "      <td>289.0</td>\n",
       "      <td>154.347397</td>\n",
       "      <td>154.0</td>\n",
       "      <td>83.671194</td>\n",
       "      <td>0.003030</td>\n",
       "      <td>-1.200688</td>\n",
       "    </tr>\n",
       "  </tbody>\n",
       "</table>\n",
       "</div>"
      ],
      "text/plain": [
       "       attributes     min       max     range          mean   median           std      skew   kurtosis\n",
       "0             age    20.0      85.0      65.0     38.822584     36.0     15.511591  0.672539  -0.565655\n",
       "1  annual_premium  2630.0  540165.0  537535.0  30564.389581  31669.0  17213.132474  1.766087  34.004569\n",
       "2         vintage    10.0     299.0     289.0    154.347397    154.0     83.671194  0.003030  -1.200688"
      ]
     },
     "execution_count": 15,
     "metadata": {},
     "output_type": "execute_result"
    }
   ],
   "source": [
    "m"
   ]
  },
  {
   "cell_type": "markdown",
   "id": "486090ff",
   "metadata": {},
   "source": [
    "Values for Mean similar to median indicates the data for such attribute are evenly distributed."
   ]
  },
  {
   "cell_type": "markdown",
   "id": "fc846c84",
   "metadata": {},
   "source": [
    "### 1.5.2 Categorical Attributes"
   ]
  },
  {
   "cell_type": "code",
   "execution_count": 16,
   "id": "ec352178",
   "metadata": {
    "ExecuteTime": {
     "end_time": "2021-12-08T01:31:37.546407Z",
     "start_time": "2021-12-08T01:31:37.461699Z"
    }
   },
   "outputs": [
    {
     "data": {
      "text/plain": [
       "id                      381109\n",
       "gender                       2\n",
       "driving_license              2\n",
       "region_code                 53\n",
       "previously_insured           2\n",
       "vehicle_age                  3\n",
       "vehicle_damage               2\n",
       "policy_sales_channel       155\n",
       "response                     2\n",
       "dtype: int64"
      ]
     },
     "execution_count": 16,
     "metadata": {},
     "output_type": "execute_result"
    }
   ],
   "source": [
    "cat_attributes.apply(lambda x: x.unique().shape[0])"
   ]
  },
  {
   "cell_type": "code",
   "execution_count": 17,
   "id": "ebb74d27",
   "metadata": {
    "ExecuteTime": {
     "end_time": "2021-12-08T01:31:39.663294Z",
     "start_time": "2021-12-08T01:31:37.546407Z"
    }
   },
   "outputs": [
    {
     "data": {
      "image/png": "[encoded data removed]",
      "text/plain": [
       "<Figure size 1800x864 with 6 Axes>"
      ]
     },
     "metadata": {},
     "output_type": "display_data"
    }
   ],
   "source": [
    "grid = GridSpec(2, 3)\n",
    "\n",
    "# plt.subplot(1, 3, 1)\n",
    "plt.subplot(grid[0, 0])\n",
    "sns.countplot(data=df1, x='gender', hue='response');\n",
    "\n",
    "plt.subplot(grid[0, 1])\n",
    "sns.countplot(data=df1, x='driving_license', hue='response');\n",
    "\n",
    "plt.subplot(grid[0, 2])\n",
    "sns.countplot(data=df1, x='previously_insured', hue='response');\n",
    "\n",
    "plt.subplot(grid[1, 0])\n",
    "sns.countplot(data=df1, x='vehicle_age', hue='response');\n",
    "\n",
    "plt.subplot(grid[1, 1])\n",
    "sns.countplot(data=df1, x='vehicle_damage', hue='response');\n",
    "\n",
    "plt.subplot(grid[1, 2])\n",
    "sns.countplot(data=df1, x='region_code', hue='response');"
   ]
  },
  {
   "cell_type": "code",
   "execution_count": 18,
   "id": "e093e003",
   "metadata": {
    "ExecuteTime": {
     "end_time": "2021-12-08T01:31:39.683420Z",
     "start_time": "2021-12-08T01:31:39.665316Z"
    }
   },
   "outputs": [
    {
     "data": {
      "text/plain": [
       "1    380297\n",
       "0       812\n",
       "Name: driving_license, dtype: int64"
      ]
     },
     "execution_count": 18,
     "metadata": {},
     "output_type": "execute_result"
    }
   ],
   "source": [
    "df1.driving_license.value_counts()"
   ]
  }
 ],
 "metadata": {
  "kernelspec": {
   "display_name": "Python 3 (ipykernel)",
   "language": "python",
   "name": "python3"
  },
  "language_info": {
   "codemirror_mode": {
    "name": "ipython",
    "version": 3
   },
   "file_extension": ".py",
   "mimetype": "text/x-python",
   "name": "python",
   "nbconvert_exporter": "python",
   "pygments_lexer": "ipython3",
   "version": "3.9.7"
  },
  "varInspector": {
   "cols": {
    "lenName": 16,
    "lenType": 16,
    "lenVar": 40
   },
   "kernels_config": {
    "python": {
     "delete_cmd_postfix": "",
     "delete_cmd_prefix": "del ",
     "library": "var_list.py",
     "varRefreshCmd": "print(var_dic_list())"
    },
    "r": {
     "delete_cmd_postfix": ") ",
     "delete_cmd_prefix": "rm(",
     "library": "var_list.r",
     "varRefreshCmd": "cat(var_dic_list()) "
    }
   },
   "types_to_exclude": [
    "module",
    "function",
    "builtin_function_or_method",
    "instance",
    "_Feature"
   ],
   "window_display": false
  }
 },
 "nbformat": 4,
 "nbformat_minor": 5
}
